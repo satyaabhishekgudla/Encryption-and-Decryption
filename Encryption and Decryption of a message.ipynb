{
 "cells": [
  {
   "cell_type": "code",
   "execution_count": 15,
   "id": "747e42a9",
   "metadata": {},
   "outputs": [
    {
     "name": "stdout",
     "output_type": "stream",
     "text": [
      "Would you like to encrypt or decrypt? e\n",
      "Enter your message: abhi\n",
      "Enter the shift value: 3\n",
      "Encrypted message: dekl\n"
     ]
    }
   ],
   "source": [
    "def encrypt(text, shift):\n",
    "    result = \"\"\n",
    "    for i in range(len(text)):\n",
    "        char = text[i]\n",
    "        if char.isupper():\n",
    "            result += chr((ord(char) + shift - 65) % 26 + 65)\n",
    "        elif char.islower():\n",
    "            result += chr((ord(char) + shift - 97) % 26 + 97)\n",
    "        else:\n",
    "            result += char    \n",
    "    return result\n",
    "def decrypt(text, shift):\n",
    "    return encrypt(text, -shift)\n",
    "def main():\n",
    "    choice = input(\"Would you like to encrypt or decrypt? \")\n",
    "    text = input(\"Enter your message: \")\n",
    "    shift = int(input(\"Enter the shift value: \")) \n",
    "    if choice.lower() == 'e':\n",
    "        print(\"Encrypted message:\", encrypt(text, shift))\n",
    "    elif choice.lower() == 'd':\n",
    "        print(\"Decrypted message:\", decrypt(text, shift))       \n",
    "    else:\n",
    "        print(\"Invalid choice! Please select 'e' for encryption or 'd' for decryption.\")\n",
    "if __name__ == \"__main__\":\n",
    "    main()"
   ]
  },
  {
   "cell_type": "markdown",
   "id": "6cfc0db1",
   "metadata": {},
   "source": []
  },
  {
   "cell_type": "code",
   "execution_count": null,
   "id": "1e876e20",
   "metadata": {},
   "outputs": [],
   "source": []
  }
 ],
 "metadata": {
  "kernelspec": {
   "display_name": "Python 3 (ipykernel)",
   "language": "python",
   "name": "python3"
  },
  "language_info": {
   "codemirror_mode": {
    "name": "ipython",
    "version": 3
   },
   "file_extension": ".py",
   "mimetype": "text/x-python",
   "name": "python",
   "nbconvert_exporter": "python",
   "pygments_lexer": "ipython3",
   "version": "3.11.5"
  }
 },
 "nbformat": 4,
 "nbformat_minor": 5
}
